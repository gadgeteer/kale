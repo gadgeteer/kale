{
 "cells": [
  {
   "cell_type": "markdown",
   "metadata": {},
   "source": [
    "## Kubeflow Pipeline Example\n",
    "\n",
    "Kubeflow pipelines allow engineers to create a repeatable process for running different parts of machine learning model in parallel and on appropriate hardware.\n",
    "\n",
    "Getting a pipeline up and running is not easy. After a machine learning model is working, each of these steps must be completed to convert it into a pipeline: \n",
    "* Create Docker images for independent parts of the model\n",
    "* Write Kubeflow Pipeline orchestration code using the KFP DSL Python API\n",
    "* Compile Kubeflow Pipeline code, along with docker images, into a .tar.gz file\n",
    "* Upload compiled pipeline .tar.gz to Kubeflow\n",
    "* Create an Experiment in Kubeflow to organize Pipeline runs\n",
    "* Create a Run and then start it\n",
    "\n",
    "All the steps listed above can be done with a single click by using Kale. This notebook presents a minimal example to show how Kale can convert a Notebook to a pipeline when annotations have been added to the code blocks in the Jupyter Notebook file.\n",
    "\n",
    "Variables are tagged for transformation into pipeline run parameters to let a pipeline be run with different inputs. Code cells can be divided into independent pipeline steps. Steps that are dependent on prior steps are tagged for propper pipeline creation. Imports and common functions are marked for inclusion with each independent pipeline process. \n",
    "\n",
    "You can look at the annotations by inspecting the Notebook source, or by installing the Kale jupyter extension (see [github.com/kubeflow-kale/jupyterlab-kubeflow-kale](https://github.com/kubeflow-kale/jupyterlab-kubeflow-kale))\n",
    "\n",
    "\n"
   ]
  },
  {
   "cell_type": "markdown",
   "metadata": {},
   "source": [
    "Click the Kale Deployment Panel icon ![kubeflow-favicon](https://www.kubeflow.org/favicons/favicon-32x32.png) in the left naviagtion bar\n",
    "\n",
    "The **Kale Deployment Panel** will appear. Slide the **Enable** slider to the right\n",
    "\n",
    "![enable-slider](https://aegirio.endpoints.kubeflow-pipeline-trials.cloud.goog/notebook/gadgeteer/myfirstnbserver/files/enable-slider.png?_xsrf=2%7Ced26d3de%7Cfad8d169787d218707e48e87fc3ace82%7C1589987705)\n",
    "\n",
    "The Pipeline name and Experiment name are now shown in the Kale Deployment Panel\n",
    "\n",
    "Annotations in the Jupyter Notebook file that were previously not shown are now displayed. A **Tag** element is added to the metadata element of code cells\n",
    "```\n",
    "\"metadata\": {\n",
    "    \"tags\": [\n",
    "     \"imports\"\n",
    "    ]\n",
    "   }\n",
    "```"
   ]
  },
  {
   "cell_type": "code",
   "execution_count": null,
   "metadata": {
    "tags": [
     "imports"
    ]
   },
   "outputs": [],
   "source": [
    "import random"
   ]
  },
  {
   "cell_type": "markdown",
   "metadata": {},
   "source": [
    "Click the pencil icon on the right side of the cell above to open a window that allows editing the cell metadata. Click the **X** in the upper left to close the metadata edit window\n",
    "\n",
    "![close-metadata-edit](https://aegirio.endpoints.kubeflow-pipeline-trials.cloud.goog/notebook/gadgeteer/myfirstnbserver/files/images/metadata-edit-close.png?_xsrf=2%7Ced26d3de%7Cfad8d169787d218707e48e87fc3ace82%7C1589987705)"
   ]
  },
  {
   "cell_type": "code",
   "execution_count": null,
   "metadata": {
    "tags": [
     "pipeline-parameters"
    ]
   },
   "outputs": [],
   "source": [
    "CANDIES = 37"
   ]
  },
  {
   "cell_type": "markdown",
   "metadata": {},
   "source": [
    "Variables annotated as pipeline-parameters will available in the **Create Run** UI\n",
    "\n",
    "![run-parameter](https://aegirio.endpoints.kubeflow-pipeline-trials.cloud.goog/notebook/gadgeteer/myfirstnbserver/files/images/run-parameter.png?_xsrf=2%7Ced26d3de%7Cfad8d169787d218707e48e87fc3ace82%7C1589987705)\n",
    "\n",
    "Any variable that is used, not just pipeline parameters, is persisted on the local file system so it is available to any dependent Pipeline Steps"
   ]
  },
  {
   "cell_type": "code",
   "execution_count": null,
   "metadata": {
    "tags": [
     "functions"
    ]
   },
   "outputs": [],
   "source": [
    "def get_handful(kidname, left):\n",
    "    if left == 0:\n",
    "        print(\"{0} Got no candy!\".format(kidname))\n",
    "        return 0\n",
    "    c = random.randint(1, left)\n",
    "    print(\"{0} got {1} candies!\".format(kidname, c))\n",
    "    return c"
   ]
  },
  {
   "cell_type": "markdown",
   "metadata": {},
   "source": [
    "Code cells annotated as imports and functions will be prepended to each pipeline step"
   ]
  },
  {
   "cell_type": "code",
   "execution_count": null,
   "metadata": {
    "tags": [
     "block:sack"
    ]
   },
   "outputs": [],
   "source": [
    "print(\"Let's put %s candies in a bag and have three kids get a handful\" % CANDIES)"
   ]
  },
  {
   "cell_type": "markdown",
   "metadata": {},
   "source": [
    "This is the first actual pipeline step. When the pipeline is run, This step will be executed by creating a container from the image specified in **Advanced Setting** in the Kale Deployment panel\n",
    "\n",
    "This step does not have any dependencies in the notebook code, but it does reference variables that are used in other steps. The value of these shared variables is persisted during pipeline runs by the automatically created `kale-marshal-volume` step\n"
   ]
  },
  {
   "cell_type": "code",
   "execution_count": null,
   "metadata": {
    "tags": [
     "block:kid1",
     "prev:sack"
    ]
   },
   "outputs": [],
   "source": [
    "# kid1 gets a handful, without looking in the bad!\n",
    "kid1 = get_handful(\"Jack\", CANDIES)"
   ]
  },
  {
   "cell_type": "markdown",
   "metadata": {},
   "source": [
    "This pipeline step is marked as dependent on the **sack** step. A container will be created only after the sack step successfully completes"
   ]
  },
  {
   "cell_type": "code",
   "execution_count": null,
   "metadata": {
    "tags": [
     "block:kid2",
     "prev:kid1"
    ]
   },
   "outputs": [],
   "source": [
    "kid2 = get_handful(\"Jill\", CANDIES - kid1)"
   ]
  },
  {
   "cell_type": "markdown",
   "metadata": {},
   "source": [
    "This step is marked as dependent on the **kid1** step which can be seen by hovering over the colored dot next to its name.\n",
    "\n",
    "Notice we did not do anything to the variable `kid1` to make it available in this step "
   ]
  },
  {
   "cell_type": "code",
   "execution_count": null,
   "metadata": {
    "tags": [
     "block:kid3",
     "prev:kid2"
    ]
   },
   "outputs": [],
   "source": [
    "kid3 = get_handful(\"Paul\", CANDIES - kid1 - kid2)\n",
    "\n",
    "print(\"There are {0} candies still in the sack\".format(CANDIES - kid1 - kid2 - kid3))"
   ]
  },
  {
   "cell_type": "markdown",
   "metadata": {},
   "source": [
    "### Create Pipeline and Run\n",
    "A new name Pipeline name and an optional description can be entered in the Kale Deployment Panel.\n",
    "\n",
    "Experiments are used by Kubeflow to organize different Pipeline runs. You can select an existing Experiment, or click **+New Experiment** to create a new one.\n",
    "\n",
    "A unique name for this Pipeline run will be automatically created.\n",
    "\n",
    "Click the **COMPILE AND RUN** button in the Kale Deployment Panel"
   ]
  },
  {
   "cell_type": "code",
   "execution_count": null,
   "metadata": {},
   "outputs": [],
   "source": []
  }
 ],
 "metadata": {
  "kernelspec": {
   "display_name": "Python 3",
   "language": "python",
   "name": "python3"
  },
  "kubeflow_notebook": {
   "docker_image": "gcr.io/kubeflow-pipeline-trials/aegirio-jupyterlab:0.0.11",
   "experiment": {
    "id": "af5f05e2-d728-4fc2-a42c-87f708775186",
    "name": "test"
   },
   "experiment_name": "test",
   "pipeline_description": "Share some candies between three lovely kids",
   "pipeline_name": "candybag",
   "volumes": []
  },
  "language_info": {
   "codemirror_mode": {
    "name": "ipython",
    "version": 3
   },
   "file_extension": ".py",
   "mimetype": "text/x-python",
   "name": "python",
   "nbconvert_exporter": "python",
   "pygments_lexer": "ipython3",
   "version": "3.6.9"
  }
 },
 "nbformat": 4,
 "nbformat_minor": 4
}
