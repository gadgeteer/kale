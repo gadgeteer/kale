{
 "cells": [
  {
   "cell_type": "code",
   "execution_count": 1,
   "metadata": {},
   "outputs": [],
   "source": [
    "from luminol.anomaly_detector import AnomalyDetector"
   ]
  },
  {
   "cell_type": "code",
   "execution_count": 2,
   "metadata": {},
   "outputs": [],
   "source": [
    "ts = {0: 0, 1: 0.5, 2: 1, 3: 1, 4: 1, 5: 0, 6: 0, 7: 0, 8: 0}"
   ]
  },
  {
   "cell_type": "code",
   "execution_count": 3,
   "metadata": {},
   "outputs": [
    {
     "name": "stdout",
     "output_type": "stream",
     "text": [
      "0 0.0\n",
      "1 0.8731282501307988\n",
      "2 1.5716308502354377\n",
      "3 2.1363368633427995\n",
      "4 1.70906949067424\n",
      "5 2.905418134146207\n",
      "6 1.1715411093483696\n",
      "7 0.9372328874786957\n",
      "8 0.7497863099829566\n"
     ]
    }
   ],
   "source": [
    "my_detector = AnomalyDetector(ts)\n",
    "score = my_detector.get_all_scores()\n",
    "for timestamp, value in score.iteritems():\n",
    "    print(timestamp, value)"
   ]
  },
  {
   "cell_type": "code",
   "execution_count": 4,
   "metadata": {},
   "outputs": [
    {
     "name": "stdout",
     "output_type": "stream",
     "text": [
      "ts2 correlate with ts1 at time period (2, 5)\n"
     ]
    }
   ],
   "source": [
    "from luminol.anomaly_detector import AnomalyDetector\n",
    "from luminol.correlator import Correlator\n",
    "\n",
    "ts1 = {0: 0, 1: 0.5, 2: 1, 3: 1, 4: 1, 5: 0, 6: 0, 7: 0, 8: 0}\n",
    "ts2 = {0: 0, 1: 0.5, 2: 1, 3: 0.5, 4: 1, 5: 0, 6: 1, 7: 1, 8: 1}\n",
    "\n",
    "my_detector = AnomalyDetector(ts1, score_threshold=1.5)\n",
    "score = my_detector.get_all_scores()\n",
    "anomalies = my_detector.get_anomalies()\n",
    "for a in anomalies:\n",
    "    time_period = a.get_time_window()\n",
    "    my_correlator = Correlator(ts1, ts2, time_period)\n",
    "    if my_correlator.is_correlated(threshold=0.8):\n",
    "        print(\"ts2 correlate with ts1 at time period (%d, %d)\" % time_period)"
   ]
  },
  {
   "cell_type": "code",
   "execution_count": null,
   "metadata": {},
   "outputs": [],
   "source": []
  },
  {
   "cell_type": "code",
   "execution_count": null,
   "metadata": {},
   "outputs": [],
   "source": []
  }
 ],
 "metadata": {
  "kernelspec": {
   "display_name": "Python 3",
   "language": "python",
   "name": "python3"
  },
  "language_info": {
   "codemirror_mode": {
    "name": "ipython",
    "version": 3
   },
   "file_extension": ".py",
   "mimetype": "text/x-python",
   "name": "python",
   "nbconvert_exporter": "python",
   "pygments_lexer": "ipython3",
   "version": "3.6.9"
  }
 },
 "nbformat": 4,
 "nbformat_minor": 4
}
